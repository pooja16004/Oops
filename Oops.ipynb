{
  "nbformat": 4,
  "nbformat_minor": 0,
  "metadata": {
    "colab": {
      "provenance": []
    },
    "kernelspec": {
      "name": "python3",
      "display_name": "Python 3"
    },
    "language_info": {
      "name": "python"
    }
  },
  "cells": [
    {
      "cell_type": "markdown",
      "source": [
        "# Python OOPs Questions"
      ],
      "metadata": {
        "id": "byp1FvUFpWB1"
      }
    },
    {
      "cell_type": "markdown",
      "source": [
        "1- What is Object-Oriented Programming (OOP)?\n",
        "  - Object-Oriented Programming (OOP) is a programming paradigm that organizes software design around objects (data structures containing both data and methods) rather than functions and logic, promoting modularity, reusability, and maintainability."
      ],
      "metadata": {
        "id": "xIUgXkFUlC9b"
      }
    },
    {
      "cell_type": "markdown",
      "source": [
        "2- What is a class in OOP?\n",
        "  - In Object-Oriented Programming (OOP), a class is a blueprint or template for creating objects, defining their attributes (data) and methods (actions). Think of it as a recipe for creating specific instances of a thing,\n",
        "  Example - like a car, where the class \"Car\" defines the general structure and behavior, and individual cars are objects created from that class."
      ],
      "metadata": {
        "id": "zmtZlVRPm56k"
      }
    },
    {
      "cell_type": "markdown",
      "source": [
        "3- What is an object in OOP?\n",
        "  - In OOP, an object is a real-world entity created from a class. It contains data (called attributes) and functions (called methods) that define what it has and what it can do. A class is like a blueprint, and an object is a usable version of that blueprint."
      ],
      "metadata": {
        "id": "Lkhce6iZnHCs"
      }
    },
    {
      "cell_type": "markdown",
      "source": [
        "4- What is the difference between abstraction and encapsulation?\n",
        "  - Abstraction - Hiding unnecessary details and showing only the essential features of an object, it is focus on what an object does.it is simplify complexity by only exposing needed details. Using abstract classes, interfaces, or methods.Hiding the implementation logic in functions/methods.\n",
        "- Example- When you use a car, you only know how to drive (start, stop), not how the engine works.\n",
        "  - Wrapping data and methods into a single unit (class) and restricting direct access to some components. it is how data is protected within the object.it is protect data and ensure controlled access. Using access modifiers like private, public, protected.Making variables private and using getters/setters.\n",
        "      - Example - The car's engine and parts are enclosed, and you can't access them directly — only through controls."
      ],
      "metadata": {
        "id": "QXqRHn0KnG9g"
      }
    },
    {
      "cell_type": "markdown",
      "source": [
        "5- What are dunder methods in Python?\n",
        " - Dunder methods (also known as magic methods or special methods) are built-in methods in Python that have double underscores at the beginning and end of their names (like __init__, __str__, __add__).\n",
        "\n",
        " - These methods are defined by Python’s built-in classes and can be overridden in user-defined classes to customize the behavior of objects — such as initialization, printing, comparison, or operator overloading.\n",
        "\n",
        "    - example, __init__ is used to initialize object data, while __add__ can be used to define how the + operator works for custom objects."
      ],
      "metadata": {
        "id": "MCS7cvg6nG5S"
      }
    },
    {
      "cell_type": "markdown",
      "source": [
        "6- Explain the concept of inheritance in OOP.\n",
        "   - Inheritance is a feature in Object-Oriented Programming that allows a class (child) to inherit properties and behaviors (attributes and methods) from another class (parent).It helps in reusing code, reducing redundancy, and establishing a natural “is-a” relationship between classes.\n",
        "     - Example -\n",
        "\n",
        "         class Animal:  # Parent class\n",
        "            def speak(self):\n",
        "                print(\"This animal makes a sound.\")\n",
        "\n",
        "        class Dog(Animal):  # Child class\n",
        "            def bark(self):\n",
        "                print(\"The dog barks.\")\n",
        "\n",
        "\n",
        "      Types of Inheritance in Python:\n",
        "      1 - Single Inheritance - One child, one parent\n",
        "\n",
        "      2 - Multiple Inheritance - One child, multiple parents\n",
        "\n",
        "      3 - Multilevel Inheritance - Inheriting from a child that also inherits\n",
        "\n",
        "      4 - Hierarchical Inheritance - Multiple children, one parent\n",
        "\n",
        "      5 - Hybrid Inheritance - Combination of the above"
      ],
      "metadata": {
        "id": "f7wvhuWLnG2O"
      }
    },
    {
      "cell_type": "markdown",
      "source": [
        "7- What is polymorphism in OOP.\n",
        "  - Polymorphism means \"many forms\". In Object-Oriented Programming, it refers to the ability of different objects to respond to the same method or action in different ways.It allows us to use a common interface while the underlying behavior may vary depending on the object."
      ],
      "metadata": {
        "id": "vAltmSIpnGzN"
      }
    },
    {
      "cell_type": "markdown",
      "source": [],
      "metadata": {
        "id": "h5664ZofnGqG"
      }
    },
    {
      "cell_type": "markdown",
      "source": [
        "8- How is Encapsulation Achieved in Python?\n",
        "  - Encapsulation in Python is achieved by wrapping data (variables) and methods (functions) into a class, and restricting direct access to some of the object's components to protect the data.\n",
        "    \n"
      ],
      "metadata": {
        "id": "c63Woksi15c2"
      }
    },
    {
      "cell_type": "code",
      "source": [
        "# Example -\n",
        "class Person:\n",
        "    def __init__(self, name, age):\n",
        "        self.__name = name    # private variable\n",
        "        self.__age = age      # private variable\n",
        "\n",
        "    # Getter method\n",
        "    def get_age(self):\n",
        "        return self.__age\n",
        "\n",
        "    # Setter method\n",
        "    def set_age(self, age):\n",
        "        if age > 0:\n",
        "            self.__age = age\n",
        "        else:\n",
        "            print(\"Age must be positive!\")"
      ],
      "metadata": {
        "id": "KSaisWtg2gym"
      },
      "execution_count": null,
      "outputs": []
    },
    {
      "cell_type": "code",
      "source": [
        "# Creating an object\n",
        "p = Person(\"Alice\", 25)\n",
        "# Accessing data through getter\n",
        "print(p.get_age())  # Output: 25\n",
        "\n",
        "# Modifying data through setter\n",
        "p.set_age(30)\n",
        "print(p.get_age())  # Output: 30\n",
        "# Trying to access private variable directly (not recommended)\n",
        "# print(p.__age)  # This will raise an AttributeError"
      ],
      "metadata": {
        "colab": {
          "base_uri": "https://localhost:8080/"
        },
        "id": "8wl7cdcr3Af0",
        "outputId": "12881f81-8999-4e42-af17-dde0483a3461"
      },
      "execution_count": null,
      "outputs": [
        {
          "output_type": "stream",
          "name": "stdout",
          "text": [
            "25\n",
            "30\n"
          ]
        }
      ]
    },
    {
      "cell_type": "markdown",
      "source": [
        "9- What is a constructor in Python?\n",
        "   - A constructor in Python is a special method used to initialize an object when it is created from a class. the constructor is defined using the \"__init__()\" method.\n",
        "\n",
        "      Automatically called when an object is created\n",
        "\n",
        "      Used to assign values to object properties\n",
        "\n",
        "      Always named __init__()"
      ],
      "metadata": {
        "id": "Mjnq3M2Z15Zb"
      }
    },
    {
      "cell_type": "markdown",
      "source": [
        "10- What are class and static methods in Python?\n",
        "   - classmethod - A class method is a method that is bound to the class and not the instance.It can access and modify class-level data, and it takes cls as the first parameter instead of self.\n",
        "   - Staticmethod - A static method doesn't take self or cls as the first argument.It's not dependent on class or instance data. It's just a utility function inside the class, used for logical grouping."
      ],
      "metadata": {
        "id": "CPig_V6x15WI"
      }
    },
    {
      "cell_type": "markdown",
      "source": [
        "11- What is method overloading in Python?\n",
        "- Method overloading, in general programming terms, means defining multiple methods with the same name but different parameters (number or type) within a class. In Python, while it doesn't directly support defining multiple methods with the same name and different signatures, you can achieve the same functionality using default arguments, variable-length arguments, or conditionals within a single function definition.\n"
      ],
      "metadata": {
        "id": "LD9T7zGx15S-"
      }
    },
    {
      "cell_type": "code",
      "source": [
        "# Example -\n",
        "class Student:\n",
        "    def student(self):\n",
        "        print(\"Wecome to pwskills class\")\n",
        "    def student(self, name = \"\"):\n",
        "        print(\"Wecome to pwskills class\", name)\n",
        "    def student(self, name = \"\", course = \"\"):\n",
        "        print(\"Wecome to pwskills class\", name, course)"
      ],
      "metadata": {
        "id": "m9WJCeap4YOF"
      },
      "execution_count": null,
      "outputs": []
    },
    {
      "cell_type": "code",
      "source": [
        "stud = Student()"
      ],
      "metadata": {
        "id": "J-8s3cLB4ghU"
      },
      "execution_count": null,
      "outputs": []
    },
    {
      "cell_type": "code",
      "source": [
        "stud.student()"
      ],
      "metadata": {
        "colab": {
          "base_uri": "https://localhost:8080/"
        },
        "id": "ndQ6Rl4Y4geF",
        "outputId": "c11ab0ab-a0fe-4064-b86e-ed5938f8dc39"
      },
      "execution_count": null,
      "outputs": [
        {
          "output_type": "stream",
          "name": "stdout",
          "text": [
            "Wecome to pwskills class  \n"
          ]
        }
      ]
    },
    {
      "cell_type": "code",
      "source": [
        "stud.student(\"sam\")"
      ],
      "metadata": {
        "colab": {
          "base_uri": "https://localhost:8080/"
        },
        "id": "ukbNCzcQ4gVJ",
        "outputId": "3d2fa7b0-ff9e-47f3-9cac-80f5933f9515"
      },
      "execution_count": null,
      "outputs": [
        {
          "output_type": "stream",
          "name": "stdout",
          "text": [
            "Wecome to pwskills class sam \n"
          ]
        }
      ]
    },
    {
      "cell_type": "code",
      "source": [
        "stud.student(\"Sam\", \"DS\")"
      ],
      "metadata": {
        "colab": {
          "base_uri": "https://localhost:8080/"
        },
        "id": "ijZ4NA2e4qbp",
        "outputId": "4da09679-b39d-4141-f43f-dfa5b711ac4d"
      },
      "execution_count": null,
      "outputs": [
        {
          "output_type": "stream",
          "name": "stdout",
          "text": [
            "Wecome to pwskills class Sam DS\n"
          ]
        }
      ]
    },
    {
      "cell_type": "markdown",
      "source": [
        "12- What is method overriding in OOP?\n",
        "- In Object-Oriented Programming (OOP), method overriding allows a subclass to provide a specific implementation for a method that is already defined in its superclass, enabling specialized behavior while maintaining the same method signature."
      ],
      "metadata": {
        "id": "28xQBO0x15QR"
      }
    },
    {
      "cell_type": "code",
      "source": [
        "# Example -\n",
        "class Animal:\n",
        "    def sound(self):\n",
        "        print(\"Animal Sound\")\n",
        "class Cat(Animal):\n",
        "    def sound(self):\n",
        "        print(\"cat meows\")"
      ],
      "metadata": {
        "id": "ksdnXacX5rfe"
      },
      "execution_count": null,
      "outputs": []
    },
    {
      "cell_type": "code",
      "source": [
        "anm = Animal()"
      ],
      "metadata": {
        "id": "lA20k2Q75uGi"
      },
      "execution_count": null,
      "outputs": []
    },
    {
      "cell_type": "code",
      "source": [
        "anm.sound() #Animal class"
      ],
      "metadata": {
        "colab": {
          "base_uri": "https://localhost:8080/"
        },
        "id": "4N8SUbhI5yLt",
        "outputId": "0c0390ce-1389-4ccb-aab1-df5595db27b6"
      },
      "execution_count": null,
      "outputs": [
        {
          "output_type": "stream",
          "name": "stdout",
          "text": [
            "Animal Sound\n"
          ]
        }
      ]
    },
    {
      "cell_type": "code",
      "source": [
        "cat = Cat()\n",
        "cat.sound() #cat class"
      ],
      "metadata": {
        "colab": {
          "base_uri": "https://localhost:8080/"
        },
        "id": "G07442Dc52r1",
        "outputId": "bf6c0cec-d596-4713-f959-f7fbfd82ce58"
      },
      "execution_count": null,
      "outputs": [
        {
          "output_type": "stream",
          "name": "stdout",
          "text": [
            "cat meows\n"
          ]
        }
      ]
    },
    {
      "cell_type": "markdown",
      "source": [
        "13- What is a property decorator in Python?\n",
        "-  The @property decorator in Python is used to turn a method into a “read-only” property.It allows you to access a method like an attribute, without using parentheses ().\n",
        "     \n",
        "     Use @property\n",
        "       To control access to a private variable.\n",
        "       To perform calculations or validations when accessing a value.\n",
        "       To make a method feel like a simple attribute to users of your class."
      ],
      "metadata": {
        "id": "ry1rGDrM15Ky"
      }
    },
    {
      "cell_type": "markdown",
      "source": [
        "14- Why is polymorphism important in OOP?\n",
        "- Polymorphism is important in Object-Oriented Programming because it allows objects of different classes to be treated as if they were of the same type, enabling flexibility, code reuse, and clean, maintainable code.\n",
        "     - Reasons Why Polymorphism Matters:\n",
        "\n",
        "      1- Code Reusability - You can write functions or methods that work with different types of objects without rewriting code.\n",
        "\n",
        "     2- Flexibility & Extensibility - You can add new classes and change behaviors without changing existing code.\n",
        "\n",
        "     3- Cleaner, More Maintainable Code - You avoid large if-else or switch blocks by relying on method overriding.\n",
        "\n",
        "     4- Supports the \"Open/Closed Principle\" - Software should be open for extension, but closed for modification — polymorphism helps achieve that."
      ],
      "metadata": {
        "id": "xFD3HnbT9X81"
      }
    },
    {
      "cell_type": "markdown",
      "source": [
        "15- What is an abstract class in Python?\n",
        " - An abstract class defines a common structure for other classes and enforces that certain methods are implemented, making your code more organized and consistent."
      ],
      "metadata": {
        "id": "tkOCo0KP9X5w"
      }
    },
    {
      "cell_type": "markdown",
      "source": [
        "16- What are the advantages of OOP?\n",
        "- Object-Oriented Programming (OOP) offers several powerful advantages that make it a popular choice for building software — especially large and complex systems.OOP makes code organized, reusable, secure, and easier to manage, especially as projects grow in size and complexity.\n",
        "   - Advantages of OOP (Object-Oriented Programming)\n",
        "      1. Modularity - Code is organized into classes and objects, making it easier to manage, understand, and reuse.\n",
        "      2. Reusability - Through inheritance, you can reuse existing code in new classes — saving time and effort.\n",
        "      3. Encapsulation - Keeps data safe by hiding internal state and only exposing what's necessary using getters/setters or properties.\n",
        "      4. Polymorphism - Allows one interface, many implementations, making it easy to write flexible and extensible code.\n",
        "      5. Inheritance - Allows classes to inherit features from other classes, reducing code duplication and improving organization.\n",
        "      6. Scalability & Maintainability - Easier to update or expand code, since each part is isolated (thanks to modularity and encapsulation).\n",
        "      7. Real-World Modeling - You can model real-world entities (like cars, users, shapes) using classes — making the code intuitive and logical.\n",
        "      8. Improved Collaboration - Multiple developers can work on different classes or modules independently."
      ],
      "metadata": {
        "id": "YaqdbVdQ9X3D"
      }
    },
    {
      "cell_type": "markdown",
      "source": [
        "17- What is the difference between a class variable and an instance variable?\n",
        " - Class Variable:- A class variable is a variable that belongs to the class itself, is shared by all instances, and is defined inside the class but outside any method. It uses only one copy in memory, and can be accessed using either the class name or self.\n",
        " - Instance Variable:- An instance variable belongs to each individual object, is unique for every instance, and is usually defined inside the __init__() method. Each object has its own copy in memory, and it is accessed using self."
      ],
      "metadata": {
        "id": "EVboq6pf9XsC"
      }
    },
    {
      "cell_type": "markdown",
      "source": [
        "18- What is multiple inheritance in Python?\n",
        "- Multiple inheritance is a feature in Python where a class can inherit from more than one parent class.This means a child class can access attributes and methods from multiple base classes."
      ],
      "metadata": {
        "id": "1VpfrO9eQdrf"
      }
    },
    {
      "cell_type": "markdown",
      "source": [
        "19- Explain the purpose of ''__str__' and '__repr__\" methods in Python?\n",
        "- Both __str__ and __repr__ are dunder (double underscore) methods used to define how objects are represented as strings.\n",
        "  - __str__(self) - For Readable Output -\n",
        "The __str__ method is used to define the user-friendly string representation of an object.It is called when you use the print() function or str() on an object.\n",
        "\n",
        "Example:-\n",
        "\n",
        "class Person:\n",
        "     def __init__(self, name):\n",
        "         self.name = name\n",
        "\n",
        "     def __str__(self):\n",
        "         return f\"Person: {self.name}\"\n",
        "\n",
        "p = Person(\"Alice\")\n",
        "print(p)  # Output: Person: Alice\n",
        "\n",
        "  - __repr__(self) - For Developer/Debugging Output -\n",
        "The __repr__ method is used to define the official string representation of an object, useful for debugging.\n",
        "It is called when you type the object in the console or use repr().\n",
        "\n",
        "Example:-\n",
        "\n",
        "class Person:\n",
        "    def __init__(self, name):\n",
        "        self.name = name\n",
        "\n",
        "    def __repr__(self):\n",
        "        return f\"Person('{self.name}')\"\n",
        "\n",
        "p = Person(\"Alice\")\n",
        "print(repr(p))  # Output: Person('Alice')\n"
      ],
      "metadata": {
        "id": "Gbg-7PrMQdoa"
      }
    },
    {
      "cell_type": "markdown",
      "source": [
        "20- What is the significance of the ‘super()’ function in Python?\n",
        "- The super() function in Python is used to call methods from a parent (super) class.It allows a child class to access and reuse the methods and properties of its parent class without hardcoding the parent’s name."
      ],
      "metadata": {
        "id": "fwW6GmObQdk9"
      }
    },
    {
      "cell_type": "markdown",
      "source": [
        "21- What is the significance of the __del__ method in Python?\n",
        "- The __del__ method is a special (dunder) method in Python that is called automatically when an object is about to be destroyed.It acts like a destructor, and is typically used to perform cleanup operations like closing files or releasing resources.\n",
        "\n",
        "Important Notes:-\n",
        " - __del__ is not guaranteed to be called immediately when an object goes out of scope — it's called when Python’s garbage collector deletes the object.\n",
        "\n",
        " - Be careful using __del__ with complex code — it can cause unexpected behavior if not handled properly."
      ],
      "metadata": {
        "id": "SeuRnMTQlbeM"
      }
    },
    {
      "cell_type": "markdown",
      "source": [
        "22- What is the difference between @staticmethod and @classmethod in Python?\n",
        "- The difference between @staticmethod and  @classmethod in Python\n",
        " - First parameter - \t@staticmethod takes no special first argument, @classmethod\ttakes cls (the class itself)\n",
        " - Access to class?\t-\t@staticmethod cannot access or modify class data, @classmethod can access or modify class variables\n",
        " - Access to object? - \t@staticmethod cannot access instance (self) data, @classmethod cannot access instance (self) data\n",
        " - Use case\t- \t@staticmethod utility/helper functions\tFactory methods, @classmethod working with class-level data\n",
        " - Defined using\t@staticmethod decorator\t@classmethod decorator"
      ],
      "metadata": {
        "id": "muToDY_ElbZ8"
      }
    },
    {
      "cell_type": "markdown",
      "source": [
        "23- How does polymorphism work in Python with inheritance?\n",
        "- In Python, polymorphism with inheritance allows a child class to override methods from its parent class, and lets you use different class objects through a common interface.\n",
        "\n",
        "     This means: Same method name, different behavior depending on the object."
      ],
      "metadata": {
        "id": "Kqsr2UkblbVp"
      }
    },
    {
      "cell_type": "code",
      "source": [
        "# Example:\n",
        "class Animal:\n",
        "    def speak(self):\n",
        "        print(\"Animal speaks\")\n",
        "\n",
        "class Dog(Animal):\n",
        "    def speak(self):\n",
        "        print(\"Dog barks\")\n",
        "\n",
        "class Cat(Animal):\n",
        "    def speak(self):\n",
        "        print(\"Cat meows\")\n",
        "\n",
        "# Polymorphism in action\n",
        "def make_sound(animal):\n",
        "    animal.speak()\n",
        "\n",
        "# Different objects, same method\n",
        "make_sound(Dog())   # Output: Dog barks\n",
        "make_sound(Cat())   # Output: Cat meows\n"
      ],
      "metadata": {
        "colab": {
          "base_uri": "https://localhost:8080/"
        },
        "id": "GpPvhP2YoZB1",
        "outputId": "41c972cf-547c-43b1-89c1-8535140cc10d"
      },
      "execution_count": null,
      "outputs": [
        {
          "output_type": "stream",
          "name": "stdout",
          "text": [
            "Dog barks\n",
            "Cat meows\n"
          ]
        }
      ]
    },
    {
      "cell_type": "markdown",
      "source": [
        "24- What is method chaining in Python OOP?\n",
        "- Method chaining is a programming technique where you call multiple methods on the same object in a single line, one after another.\n",
        "Each method returns the object itself (self), allowing the next method to be called on it.\n",
        "\n"
      ],
      "metadata": {
        "id": "JHUQu_gklbRK"
      }
    },
    {
      "cell_type": "markdown",
      "source": [
        "25- What is the purpose of the __call__ method in Python?\n",
        "- The __call__ method in Python allows an object to be called like a function.\n",
        "If a class defines a __call__() method, its instances can be called using parentheses () as if they were regular functions."
      ],
      "metadata": {
        "id": "2n-1rXs5lbNM"
      }
    },
    {
      "cell_type": "code",
      "source": [
        " # Example:-\n",
        "class Greeter:\n",
        "    def __init__(self, name):\n",
        "        self.name = name\n",
        "\n",
        "    def __call__(self):\n",
        "        print(f\"Hello, {self.name}!\")\n",
        "\n",
        "g = Greeter(\"Alice\")\n",
        "g()  # Output: Hello, Alice!\n"
      ],
      "metadata": {
        "colab": {
          "base_uri": "https://localhost:8080/"
        },
        "id": "JxJs_DAdlYdf",
        "outputId": "b4e7e7c0-c934-419e-f773-3f37fba94f96"
      },
      "execution_count": null,
      "outputs": [
        {
          "output_type": "stream",
          "name": "stdout",
          "text": [
            "Hello, Alice!\n"
          ]
        }
      ]
    },
    {
      "cell_type": "markdown",
      "source": [
        "# Practical Questions"
      ],
      "metadata": {
        "id": "jZEQsxZopR-T"
      }
    },
    {
      "cell_type": "code",
      "source": [
        "#1- Create a parent class Animal with a method speak() that prints a generic message.Create a child class Dog that overrides the speak() method to print \"Bark!\".\n",
        "\n",
        "#parent class\n",
        "class Animal:\n",
        "    def speak(self):\n",
        "        print(\"Animal speak\")\n",
        "\n",
        "#child class\n",
        "class Dog(Animal):\n",
        "    def speak(self):\n",
        "        print(\"Bark!\")"
      ],
      "metadata": {
        "id": "BCU6pzdJpg-t"
      },
      "execution_count": null,
      "outputs": []
    },
    {
      "cell_type": "code",
      "source": [
        "#Tesing\n",
        "a = Animal()\n",
        "a.speak() # Output: The animal makes a sound."
      ],
      "metadata": {
        "colab": {
          "base_uri": "https://localhost:8080/"
        },
        "id": "NMCOGBVupg7i",
        "outputId": "896225f3-a187-46e4-deae-369639a8ccc7"
      },
      "execution_count": null,
      "outputs": [
        {
          "output_type": "stream",
          "name": "stdout",
          "text": [
            "Animal speak\n"
          ]
        }
      ]
    },
    {
      "cell_type": "code",
      "source": [
        "d = Dog()\n",
        "d.speak() # Output: Bark!"
      ],
      "metadata": {
        "colab": {
          "base_uri": "https://localhost:8080/"
        },
        "id": "p30I_jxJpg4c",
        "outputId": "a35855b8-6e00-4840-a759-cf0d34859a81"
      },
      "execution_count": null,
      "outputs": [
        {
          "output_type": "stream",
          "name": "stdout",
          "text": [
            "Bark!\n"
          ]
        }
      ]
    },
    {
      "cell_type": "code",
      "source": [
        "#2- Write a program to create an abstract class Shape with a method area(). Derive classes Circle and Rectangle from it and implement the area() method in both.\n",
        "\n",
        "from abc import ABC, abstractmethod\n",
        "import math\n",
        "\n",
        "# Abstract base class\n",
        "class Shape():\n",
        "    @abstractmethod\n",
        "    def area(self):\n",
        "        pass\n",
        "\n",
        "#Cricle class\n",
        "class Circle(Shape):\n",
        "    def __init__(self,radius):\n",
        "        self.radius = radius\n",
        "\n",
        "    def area(self):\n",
        "        return math.pi * self.radius **2\n",
        "\n",
        "#Rectangle class\n",
        "class Rectangle(Shape):\n",
        "    def __init__(self,length,width):\n",
        "        self.length = length\n",
        "        self.width = width\n",
        "\n",
        "\n",
        "    def area(self):\n",
        "        return self.length * self.width\n"
      ],
      "metadata": {
        "id": "38CHX_V_pg1l"
      },
      "execution_count": null,
      "outputs": []
    },
    {
      "cell_type": "code",
      "source": [
        "# Testing the classes\n",
        "c= Circle(4)\n",
        "print(f\"Circle Area: {c.area():.2f}\")"
      ],
      "metadata": {
        "colab": {
          "base_uri": "https://localhost:8080/"
        },
        "id": "KwjVxDFepgt7",
        "outputId": "6c2f0542-dd5e-485d-98ea-9081beb681d2"
      },
      "execution_count": null,
      "outputs": [
        {
          "output_type": "stream",
          "name": "stdout",
          "text": [
            "Circle Area: 50.27\n"
          ]
        }
      ]
    },
    {
      "cell_type": "code",
      "source": [
        "# Testing the classes\n",
        "r = Rectangle(4,6)\n",
        "print(r.area())"
      ],
      "metadata": {
        "colab": {
          "base_uri": "https://localhost:8080/"
        },
        "id": "MiLe6IP6pgqX",
        "outputId": "8f5a6448-a7b2-4e08-8d68-0b568ae8b0e6"
      },
      "execution_count": null,
      "outputs": [
        {
          "output_type": "stream",
          "name": "stdout",
          "text": [
            "24\n"
          ]
        }
      ]
    },
    {
      "cell_type": "code",
      "source": [
        "#3- Implement a multi-level inheritance scenario where a class Vehicle has an attribute type. Derive a class Car and further derive a class ElectricCar that adds a battery attribute.\n",
        "\n",
        "# Base class\n",
        "class Vehicle():\n",
        "    def __init__(self,Vehicle_type):\n",
        "        self.Vehicle_type =Vehicle_type\n",
        "\n",
        "    def show_type(self):\n",
        "        print(f\"Vehicle type : {self.Vehicle_type}\")\n",
        "\n",
        "#derive class from Vehicle\n",
        "class Car(Vehicle):\n",
        "    def __init__(self,Vehicle_type,brand):\n",
        "        super().__init__(Vehicle_type)\n",
        "        self.brand = brand\n",
        "\n",
        "    def show_brand(self):\n",
        "        print(f\"Car Brand : {self.brand}\")\n",
        "\n",
        "\n",
        "# Derived class from Car (multi-level)\n",
        "class ElectricCar(Car):\n",
        "    def __init__(self, Vehicle_type, brand,battery_capacity):\n",
        "        super().__init__(Vehicle_type, brand)\n",
        "        self.battery = battery_capacity\n",
        "\n",
        "    def show_battery(self):\n",
        "        print(f\"Battery Capacity : {self.battery} kwh\")\n",
        "\n"
      ],
      "metadata": {
        "id": "kcHzwytwpgnR"
      },
      "execution_count": null,
      "outputs": []
    },
    {
      "cell_type": "code",
      "source": [
        "# Testing the multi-level inheritance\n",
        "car = ElectricCar(\"Four-Wheeler\", \"BMW\", 80)"
      ],
      "metadata": {
        "id": "wC_3EBb8pgkT"
      },
      "execution_count": null,
      "outputs": []
    },
    {
      "cell_type": "code",
      "source": [
        "car.show_type()\n",
        "car.show_brand()\n",
        "car.show_battery()"
      ],
      "metadata": {
        "colab": {
          "base_uri": "https://localhost:8080/"
        },
        "id": "UcAnojFypghV",
        "outputId": "860847e5-1745-4752-c98a-cc40adda8b28"
      },
      "execution_count": null,
      "outputs": [
        {
          "output_type": "stream",
          "name": "stdout",
          "text": [
            "Vehicle type : Four-Wheeler\n",
            "Car Brand : BMW\n",
            "Battery Capacity : 80 kwh\n"
          ]
        }
      ]
    },
    {
      "cell_type": "code",
      "source": [
        "#4. Demonstrate polymorphism by creating a base class Bird with a method fly(). Create two derived classes Sparrow and Penguin that override the fly() method.\n",
        "\n",
        "#Base class\n",
        "class Bird():\n",
        "    def fly(self):\n",
        "        print(\"Some bird is flying...\")\n",
        "\n",
        "\n",
        "#derived classes 1\n",
        "class Sparrow(Bird):\n",
        "    def fly(self):\n",
        "        print(\"Sparrow flies high in the sky!\")\n",
        "\n",
        "#derived classes\n",
        "class Penguin(Bird):\n",
        "    def fly(self):\n",
        "        print(\"Penguins can't fly, they swim!\")\n",
        "\n"
      ],
      "metadata": {
        "id": "rMJBSPrDpgXu"
      },
      "execution_count": null,
      "outputs": []
    },
    {
      "cell_type": "code",
      "source": [
        "# Function to demonstrate polymorphism\n",
        "def bird_flight(Bird):\n",
        "    Bird.fly()"
      ],
      "metadata": {
        "id": "RWAPkCQI-Gt9"
      },
      "execution_count": null,
      "outputs": []
    },
    {
      "cell_type": "code",
      "source": [
        "# Create objects\n",
        "brd = Bird()\n",
        "sparrow = Sparrow()\n",
        "penguin = Penguin()"
      ],
      "metadata": {
        "id": "sVy0KQUQ6N7N"
      },
      "execution_count": null,
      "outputs": []
    },
    {
      "cell_type": "code",
      "source": [
        "# Polymorphism in action\n",
        "bird_flight(sparrow)\n",
        "bird_flight(penguin)"
      ],
      "metadata": {
        "colab": {
          "base_uri": "https://localhost:8080/"
        },
        "id": "mauq9xOC6N2P",
        "outputId": "b6c6fd28-7a2b-4928-a47e-a44663dbd8f1"
      },
      "execution_count": null,
      "outputs": [
        {
          "output_type": "stream",
          "name": "stdout",
          "text": [
            "Sparrow flies high in the sky!\n",
            "Penguins can't fly, they swim!\n"
          ]
        }
      ]
    },
    {
      "cell_type": "code",
      "source": [
        "#5. Write a program to demonstrate encapsulation by creating a class BankAccount with private attributes balance and methods to deposit, withdraw, and check balance.\n",
        "\n",
        "class BankAccount:\n",
        "\n",
        "    def __init__(self,balance = 0):\n",
        "        self.__balance = balance     # private attribute\n",
        "\n",
        "     # Method to deposit money\n",
        "    def deposit(self,amount):\n",
        "         self.__balance = amount + self.__balance\n",
        "         print(f\"Deposited : {amount}\")\n",
        "\n",
        "\n",
        "    # Public method to withdraw money\n",
        "    def withdraw(self,amount):\n",
        "        if 0 < amount <= self.__balance:\n",
        "            self.__balance = self.__balance - amount\n",
        "            print(f\"Withdraw : {amount}\")\n",
        "        else:\n",
        "            print(f\"Insufficient balance : {amount} \")\n",
        "\n",
        "\n",
        "    # Public method to check balance\n",
        "    def check_balance(self):\n",
        "        print(f\"Available balance : {self.__balance}\")\n"
      ],
      "metadata": {
        "id": "9NqsYCX36NxA"
      },
      "execution_count": null,
      "outputs": []
    },
    {
      "cell_type": "code",
      "source": [
        "# Example usage:\n",
        "account = BankAccount(500)\n",
        "account.check_balance()"
      ],
      "metadata": {
        "id": "HnP6w_g46Nqb",
        "colab": {
          "base_uri": "https://localhost:8080/"
        },
        "outputId": "d3ecc045-2f69-4c5d-eead-f04b9c6a3c8c"
      },
      "execution_count": null,
      "outputs": [
        {
          "output_type": "stream",
          "name": "stdout",
          "text": [
            "Available balance : 500\n"
          ]
        }
      ]
    },
    {
      "cell_type": "code",
      "source": [
        "account.withdraw(300)\n",
        "account.check_balance()"
      ],
      "metadata": {
        "id": "wRBh7CvU6NiG",
        "colab": {
          "base_uri": "https://localhost:8080/"
        },
        "outputId": "1a769030-4ec4-4093-b847-77c10df1df28"
      },
      "execution_count": null,
      "outputs": [
        {
          "output_type": "stream",
          "name": "stdout",
          "text": [
            "Insufficient balance : 300 \n",
            "Available balance : 200\n"
          ]
        }
      ]
    },
    {
      "cell_type": "code",
      "source": [
        "account.deposit(1000)\n",
        "account.check_balance()"
      ],
      "metadata": {
        "id": "Ta1MhDis6Nbp",
        "colab": {
          "base_uri": "https://localhost:8080/"
        },
        "outputId": "5d65d4d1-7ee7-46a2-915c-20b8d8673b4f"
      },
      "execution_count": null,
      "outputs": [
        {
          "output_type": "stream",
          "name": "stdout",
          "text": [
            "Deposited : 1000\n",
            "Available balance : 1200\n"
          ]
        }
      ]
    },
    {
      "cell_type": "code",
      "source": [
        "#6. Demonstrate runtime polymorphism using a method play() in a base class Instrument. Derive classes Guitar and Piano that implement their own version of play().\n",
        "\n",
        "#Base class\n",
        "class Instrument():\n",
        "    def play(self):\n",
        "        print(\"Playing an instrument\")\n",
        "\n",
        "\n",
        "#Derive class Guitar\n",
        "class Guitar(Instrument):\n",
        "      def play(self):\n",
        "          print(\"Strumming the guitar\")\n",
        "\n",
        "\n",
        "#Derived class Piano\n",
        "class Piano(Instrument):\n",
        "    def play(self):\n",
        "        print(\"Playing the piano\")\n"
      ],
      "metadata": {
        "id": "9q9ClvJZ6NO6"
      },
      "execution_count": null,
      "outputs": []
    },
    {
      "cell_type": "code",
      "source": [
        "# Function to demonstrate runtime polymorphism\n",
        "def Instrument_play(Instrument):\n",
        "    Instrument.play()"
      ],
      "metadata": {
        "id": "vWYrv3DS6NH0"
      },
      "execution_count": null,
      "outputs": []
    },
    {
      "cell_type": "code",
      "source": [
        "guitar = Guitar()\n",
        "piano = Piano()"
      ],
      "metadata": {
        "id": "VNLmT5mVTYTJ"
      },
      "execution_count": null,
      "outputs": []
    },
    {
      "cell_type": "code",
      "source": [
        "Instrument_play(guitar)"
      ],
      "metadata": {
        "colab": {
          "base_uri": "https://localhost:8080/"
        },
        "id": "-UyFvjDrTle5",
        "outputId": "161ac672-e76b-49ce-cbc1-865eec19d170"
      },
      "execution_count": null,
      "outputs": [
        {
          "output_type": "stream",
          "name": "stdout",
          "text": [
            "Strumming the guitar\n"
          ]
        }
      ]
    },
    {
      "cell_type": "code",
      "source": [
        "Instrument_play(piano)"
      ],
      "metadata": {
        "colab": {
          "base_uri": "https://localhost:8080/"
        },
        "id": "yAByV7XyTw25",
        "outputId": "f1d09fed-0ae6-4228-a0f0-6531437d489e"
      },
      "execution_count": null,
      "outputs": [
        {
          "output_type": "stream",
          "name": "stdout",
          "text": [
            "Playing the piano\n"
          ]
        }
      ]
    },
    {
      "cell_type": "code",
      "source": [
        "#7. Create a class MathOperations with a class method add_numbers() to add two numbers and a static method subtract_numbers() to subtract two numbers.\n",
        "\n",
        "\n",
        "class MathOperations():\n",
        "    def __init__(self, num1,num2):\n",
        "        self.num1 = num1\n",
        "        self.num2 = num2\n",
        "\n",
        "\n",
        "    # Class method to add two numbers\n",
        "    @classmethod\n",
        "    def add_numbers(cls,num1, num2):\n",
        "        return(num1 + num2)\n",
        "\n",
        "    # Static method to subtract two numbers\n",
        "    @staticmethod\n",
        "    def subtract_numbers(num1,num2):\n",
        "        return num1 - num2"
      ],
      "metadata": {
        "id": "qDkYrDmAT0cZ"
      },
      "execution_count": null,
      "outputs": []
    },
    {
      "cell_type": "code",
      "source": [
        "# Example usage:\n",
        "sum_result = MathOperations.add_numbers(10, 5)\n",
        "diff_result = MathOperations.subtract_numbers(10, 5)"
      ],
      "metadata": {
        "colab": {
          "base_uri": "https://localhost:8080/"
        },
        "id": "I32Z3mONWieY",
        "outputId": "b9910417-bda6-4cb1-f9dc-0e6ae22ebe17"
      },
      "execution_count": null,
      "outputs": [
        {
          "output_type": "stream",
          "name": "stdout",
          "text": [
            "5\n"
          ]
        }
      ]
    },
    {
      "cell_type": "code",
      "source": [
        "print(f\"Sum: {sum_result}\")\n",
        "print(f\"Difference: {diff_result}\")"
      ],
      "metadata": {
        "colab": {
          "base_uri": "https://localhost:8080/"
        },
        "id": "N1H8kQnkWsA4",
        "outputId": "6251fc85-312b-4b36-b6c4-e2a8ee861ac5"
      },
      "execution_count": null,
      "outputs": [
        {
          "output_type": "stream",
          "name": "stdout",
          "text": [
            "Sum: 15\n",
            "Difference: None\n"
          ]
        }
      ]
    },
    {
      "cell_type": "code",
      "source": [
        "# 8. Implement a class Person with a class method to count the total number of persons created\n",
        "\n",
        "class Person:\n",
        "    # Class variable to keep track of the number of persons\n",
        "    count = 0\n",
        "\n",
        "    def __init__(self,name):\n",
        "        self.name = name\n",
        "        Person.count += 1 # Increment count when a new object is created\n",
        "\n",
        "\n",
        "    # Class method to get the total number of persons\n",
        "    @classmethod\n",
        "    def get_person_count(cls):\n",
        "        return cls.count\n"
      ],
      "metadata": {
        "id": "YjMlniH2Wt53"
      },
      "execution_count": null,
      "outputs": []
    },
    {
      "cell_type": "code",
      "source": [
        "# Example usage\n",
        "p1 = Person(\"Alice\")\n",
        "p2 = Person(\"Bob\")\n",
        "p3 = Person(\"Charlie\")\n",
        "print(f\"Total persons created: {Person.get_person_count()}\")"
      ],
      "metadata": {
        "colab": {
          "base_uri": "https://localhost:8080/"
        },
        "id": "YjrEAdj7bqMd",
        "outputId": "593ddbcb-c34e-44a6-a06b-799c4d1e39aa"
      },
      "execution_count": null,
      "outputs": [
        {
          "output_type": "stream",
          "name": "stdout",
          "text": [
            "Total persons created: 9\n"
          ]
        }
      ]
    },
    {
      "cell_type": "code",
      "source": [
        "#9. Write a class Fraction with attributes numerator and denominator. Override the str method to display the fraction as \"numerator/denominator\".\n",
        "\n",
        "class Fraction:\n",
        "    def __init__(self,numerator,denominator):\n",
        "        self.numerator = numerator\n",
        "        self.denominator = denominator\n",
        "\n",
        "\n",
        "    def __str__(self):\n",
        "        return f\"{self.numerator}/{self.denominator}\""
      ],
      "metadata": {
        "id": "4sAIWRoEbrbM"
      },
      "execution_count": 5,
      "outputs": []
    },
    {
      "cell_type": "code",
      "source": [
        "f = Fraction(5,10)\n",
        "print(f)"
      ],
      "metadata": {
        "colab": {
          "base_uri": "https://localhost:8080/"
        },
        "id": "ierixM93eQnn",
        "outputId": "0d63925f-ee06-4448-9d55-510a3e43ef65"
      },
      "execution_count": 6,
      "outputs": [
        {
          "output_type": "stream",
          "name": "stdout",
          "text": [
            "5/10\n"
          ]
        }
      ]
    },
    {
      "cell_type": "code",
      "source": [
        "\n",
        "#10. Demonstrate operator overloading by creating a class Vector and overriding the add method to add two vectors.\n",
        "\n",
        "class Vector():\n",
        "    def __init__(self, x, y):\n",
        "        self.x = x\n",
        "        self.y = y\n",
        "\n",
        "    def __add__(self,other):\n",
        "        return Vector(self.x + other.x, self.y + other.y)\n"
      ],
      "metadata": {
        "id": "vDTOO6inerr5"
      },
      "execution_count": 13,
      "outputs": []
    },
    {
      "cell_type": "code",
      "source": [
        "v1 = Vector(5, 3)\n",
        "v2 = Vector(2, 3)\n",
        "v = v1 + v2\n",
        "print(v.x, v.y)"
      ],
      "metadata": {
        "colab": {
          "base_uri": "https://localhost:8080/"
        },
        "id": "y620EmvDgS2_",
        "outputId": "00586abe-bc5b-4096-b094-bf9690653dfd"
      },
      "execution_count": 14,
      "outputs": [
        {
          "output_type": "stream",
          "name": "stdout",
          "text": [
            "7 6\n"
          ]
        }
      ]
    },
    {
      "cell_type": "code",
      "source": [
        "#11. Create a class Person with attributes name and age. Add a method greet() that prints \"Hello, my name is {name} and I am {age} years old.\"\n",
        "\n",
        "\n",
        "class Person:\n",
        "    def __init__(self, name, age):\n",
        "        self.name = name\n",
        "        self.age  = age\n",
        "\n",
        "    def greet(self):\n",
        "        print(f\"Hello, my name is {self.name} and I am {self.age} years old.\")"
      ],
      "metadata": {
        "id": "G2WqNu7yiOuo"
      },
      "execution_count": 15,
      "outputs": []
    },
    {
      "cell_type": "code",
      "source": [
        "p = Person(\"Pooja\", 25)\n",
        "p.greet()"
      ],
      "metadata": {
        "colab": {
          "base_uri": "https://localhost:8080/"
        },
        "id": "iZYGeRgmjRO7",
        "outputId": "1a07e895-9726-414a-d179-4069dba0bc78"
      },
      "execution_count": 18,
      "outputs": [
        {
          "output_type": "stream",
          "name": "stdout",
          "text": [
            "Hello, my name is Pooja and I am 25 years old.\n"
          ]
        }
      ]
    },
    {
      "cell_type": "code",
      "source": [
        "#12. Implement a class Student with attributes name and grades. Create a method average_grade() to compute the average of the grades.\n",
        "\n",
        "class Student:\n",
        "    def __init__(self, name, grades):\n",
        "        self.name = name\n",
        "        self.grades = grades  # expects a list of numbers\n",
        "\n",
        "\n",
        "    def average_grade(self):\n",
        "        if not self.grades:\n",
        "            return 0 # avoid division by zero\n",
        "        return sum(self.grades)/len(self.grades)\n",
        "\n",
        "    def __str__(self):\n",
        "        return f\"Student(name={self.name}, grades={self.grades})\""
      ],
      "metadata": {
        "id": "P_rUKywljY9W"
      },
      "execution_count": 23,
      "outputs": []
    },
    {
      "cell_type": "code",
      "source": [
        "s = Student(\"sam\", [85, 90, 78, 92, 80])\n",
        "print(s)"
      ],
      "metadata": {
        "colab": {
          "base_uri": "https://localhost:8080/"
        },
        "id": "3G3ibmJewvwF",
        "outputId": "6213378d-4301-4173-d7be-d01211c6eaa8"
      },
      "execution_count": 26,
      "outputs": [
        {
          "output_type": "stream",
          "name": "stdout",
          "text": [
            "Student(name=sam, grades=[85, 90, 78, 92, 80])\n"
          ]
        }
      ]
    },
    {
      "cell_type": "code",
      "source": [
        "s.average_grade()"
      ],
      "metadata": {
        "colab": {
          "base_uri": "https://localhost:8080/"
        },
        "id": "HvO2XmBHw6pQ",
        "outputId": "bd59d3ff-c27c-4c8b-bb9f-3eff02f3358b"
      },
      "execution_count": 25,
      "outputs": [
        {
          "output_type": "execute_result",
          "data": {
            "text/plain": [
              "85.0"
            ]
          },
          "metadata": {},
          "execution_count": 25
        }
      ]
    },
    {
      "cell_type": "code",
      "source": [
        "#13. Create a class Rectangle with methods set_dimensions() to set the dimensions and area() to calculate the area.\n",
        "\n",
        "class Rectangle:\n",
        "    def __init__(self):\n",
        "        self.length = 0\n",
        "        self.width = 0\n",
        "\n",
        "\n",
        "    def set_dimensions(self, length, width):\n",
        "        self.length = length\n",
        "        self.width = width\n",
        "\n",
        "\n",
        "    def area(self):\n",
        "        return self.length * self.width\n"
      ],
      "metadata": {
        "id": "wqT24lTXw8Jw"
      },
      "execution_count": 29,
      "outputs": []
    },
    {
      "cell_type": "code",
      "source": [
        "r = Rectangle()\n",
        "r.set_dimensions(5,8)\n",
        "r.area()"
      ],
      "metadata": {
        "colab": {
          "base_uri": "https://localhost:8080/"
        },
        "id": "KM07s1ng1cA1",
        "outputId": "f6b45766-9783-4e20-ca44-44736aa42b89"
      },
      "execution_count": 31,
      "outputs": [
        {
          "output_type": "execute_result",
          "data": {
            "text/plain": [
              "40"
            ]
          },
          "metadata": {},
          "execution_count": 31
        }
      ]
    },
    {
      "cell_type": "code",
      "source": [
        "#14. Create a class Employee with a method calculate_salary() that computes the salary based on hours worked and hourly rate. Create a derived class Manager that adds a bonus to the salary.\n",
        "\n",
        "#Employee class with calculate_salary()\n",
        "class Employee:\n",
        "    def __init__(self, name, hours_work, hourly_rate):\n",
        "        self.name = name\n",
        "        self.hours_work = hours_work\n",
        "        self.hourly_rate = hourly_rate\n",
        "\n",
        "\n",
        "    def calculate_salary(self):\n",
        "        return self.hourly_rate * self.hours_work\n",
        "\n",
        "    def __str__(self):\n",
        "        return f\"Employee name {self.name}, salary = {self.calculate_salary()}, \"\n",
        "\n",
        "\n",
        "#Manager class (inherits from Employee)\n",
        "class Manager(Employee):\n",
        "    def __init__(self, name, hours_work, hourly_rate, bonus):\n",
        "        super().__init__(name, hours_work, hourly_rate)\n",
        "        self.bonus = bonus\n",
        "\n",
        "\n",
        "    def calculate_salary(self):\n",
        "        base_salary = super().calculate_salary()\n",
        "        return base_salary + self.bonus\n",
        "\n",
        "\n",
        "\n",
        "    def __str__(self):\n",
        "        return f\"Manger name {self.name}, salary = {self.calculate_salary()}, bonus = {self.bonus}\"\n"
      ],
      "metadata": {
        "id": "_wO5IFou1k2w"
      },
      "execution_count": 4,
      "outputs": []
    },
    {
      "cell_type": "code",
      "source": [
        "e = Employee(\"Sam\", 9, 500)\n",
        "e.calculate_salary()\n",
        "print(e)"
      ],
      "metadata": {
        "colab": {
          "base_uri": "https://localhost:8080/"
        },
        "id": "MTnt9XIOixPo",
        "outputId": "000d7931-9078-412d-b0ed-2a81b0ef3590"
      },
      "execution_count": 8,
      "outputs": [
        {
          "output_type": "stream",
          "name": "stdout",
          "text": [
            "Employee name Sam, salary = 4500, \n"
          ]
        }
      ]
    },
    {
      "cell_type": "code",
      "source": [
        "m = Manager(\"alice\", 9, 600, 5000)\n",
        "m.calculate_salary()\n",
        "print(m)"
      ],
      "metadata": {
        "colab": {
          "base_uri": "https://localhost:8080/"
        },
        "id": "0VxCaf5gjF7b",
        "outputId": "d2df50c9-1da9-4709-fe38-1ca7ca296318"
      },
      "execution_count": 9,
      "outputs": [
        {
          "output_type": "stream",
          "name": "stdout",
          "text": [
            "Manger name alice, salary = 10400, bonus = 5000\n"
          ]
        }
      ]
    },
    {
      "cell_type": "code",
      "source": [
        "#15. Create a class Product with attributes name, price, and quantity. Implement a method total_price() that calculates the total price of the product.\n",
        "\n",
        "\n",
        "class Product:\n",
        "    def __init__(self, name, price, quantity):\n",
        "        self.name = name\n",
        "        self.price = price\n",
        "        self.quantity = quantity\n",
        "\n",
        "    def total_price(self):\n",
        "        return self.price * self.quality\n",
        "\n",
        "\n",
        "    def __str__(self):\n",
        "        return f\" Product name = {self.name}, Product Price = {self.price}, Quantity of Product = {self.quantity}\""
      ],
      "metadata": {
        "id": "IAGEL5PWjjtr"
      },
      "execution_count": 10,
      "outputs": []
    },
    {
      "cell_type": "code",
      "source": [
        "p = Product(\"Laptop\", 750, 2)\n",
        "print(p)  # Output: Product(name=Laptop, price=750, quantity=2, total=1500)"
      ],
      "metadata": {
        "colab": {
          "base_uri": "https://localhost:8080/"
        },
        "id": "4My0fxN6llS9",
        "outputId": "e46f2a07-153d-447b-982f-274fbc6ecba9"
      },
      "execution_count": 11,
      "outputs": [
        {
          "output_type": "stream",
          "name": "stdout",
          "text": [
            " Product name = Laptop, Product Price = 750, Quantity of Product = 2\n"
          ]
        }
      ]
    },
    {
      "cell_type": "code",
      "source": [
        "#16. Create a class Animal with an abstract method sound(). Create two derived classes Cow and Sheep that implement the sound() method.\n",
        "\n",
        "import abc\n",
        "#Base class\n",
        "class Animal():\n",
        "    @abc.abstractclassmethod\n",
        "    def sound(self):\n",
        "        print(\"Animal sound\")\n",
        "\n",
        "\n",
        "#derived classes Cow\n",
        "class Cow(Animal):\n",
        "    def sound(self):\n",
        "        print(\"Cow says : Moo\")\n",
        "\n",
        "#derived classes Sheep\n",
        "class Sheep(Animal):\n",
        "    def sound(self):\n",
        "        print(\"Sheep says : Baa\")"
      ],
      "metadata": {
        "id": "sONLdpLtluit"
      },
      "execution_count": 13,
      "outputs": []
    },
    {
      "cell_type": "code",
      "source": [
        "cow = Cow()\n",
        "cow.sound()\n",
        "sheep = Sheep()\n",
        "sheep.sound()"
      ],
      "metadata": {
        "colab": {
          "base_uri": "https://localhost:8080/"
        },
        "id": "nhsa0HdinT2g",
        "outputId": "887b79ce-9a18-4476-d969-84a06a8f1bd5"
      },
      "execution_count": 17,
      "outputs": [
        {
          "output_type": "stream",
          "name": "stdout",
          "text": [
            "Cow says : Moo\n",
            "Sheep says : Baa\n"
          ]
        }
      ]
    },
    {
      "cell_type": "code",
      "source": [
        "#17. Create a class Book with attributes title, author, and year_published. Add a method get_book_info() that returns a formatted string with the book's details.\n",
        "\n",
        "\n",
        "class Book:\n",
        "    def __init__(self, title, author, year_published):\n",
        "        self.title = title\n",
        "        self.author = author\n",
        "        self.year_published = year_published\n",
        "\n",
        "\n",
        "\n",
        "    def get_book_info(self):\n",
        "        return f\"'{self.title}' by {self.author} (Published: {self.year_published})\"\n",
        "\n",
        "    def __str__(self):\n",
        "        return self.get_book_info()\n"
      ],
      "metadata": {
        "id": "6P6VflYDnjM7"
      },
      "execution_count": 18,
      "outputs": []
    },
    {
      "cell_type": "code",
      "source": [
        "book = Book(\"1984\", \"George Orwell\", 1949)\n",
        "print(book.get_book_info())  # Output: '1984' by George Orwell (Published: 1949)\n",
        "\n",
        "# or just:\n",
        "print(book)  # Also works because of the __str__ method\n"
      ],
      "metadata": {
        "colab": {
          "base_uri": "https://localhost:8080/"
        },
        "id": "qhDpnY6uozF-",
        "outputId": "8f408ae0-faa6-4de4-da63-c8407601e64c"
      },
      "execution_count": 19,
      "outputs": [
        {
          "output_type": "stream",
          "name": "stdout",
          "text": [
            "'1984' by George Orwell (Published: 1949)\n",
            "'1984' by George Orwell (Published: 1949)\n"
          ]
        }
      ]
    },
    {
      "cell_type": "code",
      "source": [
        "#18. Create a class House with attributes address and price. Create a derived class Mansion that adds an attribute number_of_rooms.\n",
        "\n",
        "#House Class\n",
        "class House:\n",
        "    def __init__(self, address, price):\n",
        "        self.address = address\n",
        "        self.price = price\n",
        "\n",
        "\n",
        "    def __str__(self):\n",
        "        return f\"House located at {self.address}, priced at ${self.price}\"\n",
        "\n",
        "\n",
        "#Mansion Class (inherits from House)\n",
        "class Mansion(House):\n",
        "    def __init__(self, address, price, number_of_rooms):\n",
        "        super().__init__(address, price)\n",
        "        self.number_of_rooms = number_of_rooms\n",
        "\n",
        "\n",
        "\n",
        "    def __str__(self):\n",
        "        return f\"Mansion at {self.address}, priced at ${self.price}, with {self.number_of_rooms} rooms\""
      ],
      "metadata": {
        "id": "6kZwepXJozC_"
      },
      "execution_count": 20,
      "outputs": []
    },
    {
      "cell_type": "code",
      "source": [
        "house = House(\"123 Maple St\", 250000)\n",
        "print(house)  # Output: House located at 123 Maple St, priced at $250000\n",
        "\n",
        "mansion = Mansion(\"1 Beverly Hills\", 5000000, 12)\n",
        "print(mansion)  # Output: Mansion at 1 Beverly Hills, priced at $5000000, with 12 rooms\n"
      ],
      "metadata": {
        "colab": {
          "base_uri": "https://localhost:8080/"
        },
        "id": "5qL5wvXeqfBO",
        "outputId": "73ada162-5a41-4818-ecc4-e3b793bc73d4"
      },
      "execution_count": 21,
      "outputs": [
        {
          "output_type": "stream",
          "name": "stdout",
          "text": [
            "House located at 123 Maple St, priced at $250000\n",
            "Mansion at 1 Beverly Hills, priced at $5000000, with 12 rooms\n"
          ]
        }
      ]
    },
    {
      "cell_type": "code",
      "source": [],
      "metadata": {
        "id": "X90zjcUlqiFJ"
      },
      "execution_count": null,
      "outputs": []
    }
  ]
}